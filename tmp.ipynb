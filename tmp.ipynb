{
 "cells": [
  {
   "cell_type": "code",
   "execution_count": 11,
   "metadata": {},
   "outputs": [
    {
     "name": "stdout",
     "output_type": "stream",
     "text": [
      "labels的初始维度： (1, 21025)\n",
      "初始数据：\n",
      "Data shape: (200, 21025)\n",
      "Labels shape after transpose: (21025, 1)\n"
     ]
    }
   ],
   "source": [
    "import scipy.io as sio\n",
    "import numpy as np\n",
    "import torch\n",
    "\n",
    "# 加载Indian Pines数据集\n",
    "data_mat = sio.loadmat('indianpines_dataset.mat')\n",
    "labels_mat = sio.loadmat('indianpines_gt.mat')\n",
    "\n",
    "data = data_mat['pixels']\n",
    "labels = labels_mat['pixels']\n",
    "\n",
    "print(\"labels的初始维度：\",labels.shape)\n",
    "# 交换标签的第一维度和第二维度\n",
    "labels = np.transpose(labels, (1, 0))\n",
    "\n",
    "# 检查数据和标签的形状\n",
    "print(\"初始数据：\")\n",
    "print(\"Data shape:\", data.shape)\n",
    "print(\"Labels shape after transpose:\", labels.shape)\n"
   ]
  },
  {
   "cell_type": "code",
   "execution_count": null,
   "metadata": {},
   "outputs": [],
   "source": []
  },
  {
   "cell_type": "markdown",
   "metadata": {},
   "source": [
    "一张图片是145*145个像素点，每个像素点有200个波段的信息，\n",
    "类比来看，200个波段代表着两百个不同的角度拍摄的图像"
   ]
  },
  {
   "cell_type": "code",
   "execution_count": 6,
   "metadata": {},
   "outputs": [
    {
     "name": "stdout",
     "output_type": "stream",
     "text": [
      "初始数据：\n",
      "旋转图像Data shape: (1440, 1024)\n",
      "Labels shape: (1440, 1)\n"
     ]
    }
   ],
   "source": [
    "import scipy.io as sio\n",
    "import numpy as np\n",
    "import torch\n",
    "\n",
    "# 加载Indian Pines数据集\n",
    "data_mat = sio.loadmat('COIL20.mat')\n",
    "#labels_mat = sio.loadmat('indianpines_gt.mat')\n",
    "\n",
    "data = data_mat['fea']\n",
    "labels = data_mat['gnd']\n",
    "\n",
    "# 检查数据和标签的形状\n",
    "print(\"初始数据：\")\n",
    "print(\"旋转图像Data shape:\", data.shape)\n",
    "print(\"Labels shape:\", labels.shape)\n",
    "\n",
    "\n",
    "\n"
   ]
  },
  {
   "cell_type": "markdown",
   "metadata": {},
   "source": [
    "20个物体，每个物体有72张图像，每个图像有32*32个像素点"
   ]
  },
  {
   "cell_type": "code",
   "execution_count": 1,
   "metadata": {},
   "outputs": [
    {
     "name": "stdout",
     "output_type": "stream",
     "text": [
      "labels的初始维度： (1, 21025)\n",
      "(200, 1, 145, 145) (21025,)\n"
     ]
    }
   ],
   "source": [
    "import scipy.io as sio\n",
    "import numpy as np\n",
    "import torch\n",
    "# 加载Indian Pines数据集\n",
    "data_mat = sio.loadmat('indianpines_dataset.mat')\n",
    "labels_mat = sio.loadmat('indianpines_gt.mat')\n",
    "\n",
    "data = data_mat['pixels']\n",
    "labels = labels_mat['pixels']\n",
    "\n",
    "print(\"labels的初始维度：\",labels.shape)\n",
    "# 交换标签的第一维度和第二维度\n",
    "labels = np.transpose(labels, (1, 0))\n",
    "x, y = data.reshape((-1, 1, 145, 145)), labels\n",
    "y = np.squeeze(y)  # y in [0, 1, ..., K-1]\n",
    "\n",
    "print(x.shape,y.shape)"
   ]
  }
 ],
 "metadata": {
  "kernelspec": {
   "display_name": "Python 3",
   "language": "python",
   "name": "python3"
  },
  "language_info": {
   "codemirror_mode": {
    "name": "ipython",
    "version": 3
   },
   "file_extension": ".py",
   "mimetype": "text/x-python",
   "name": "python",
   "nbconvert_exporter": "python",
   "pygments_lexer": "ipython3",
   "version": "3.11.9"
  },
  "orig_nbformat": 4
 },
 "nbformat": 4,
 "nbformat_minor": 2
}
